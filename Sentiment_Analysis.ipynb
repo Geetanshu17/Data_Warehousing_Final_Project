{
 "cells": [
  {
   "cell_type": "code",
   "execution_count": 41,
   "metadata": {},
   "outputs": [],
   "source": [
    "import nltk\n",
    "from nltk.sentiment.vader import SentimentIntensityAnalyzer\n",
    "from nltk.corpus import stopwords\n",
    "from nltk.tokenize import word_tokenize, sent_tokenize\n",
    "import pandas as pd\n",
    "import numpy as np\n",
    "from sklearn import linear_model\n",
    "from sklearn import metrics\n",
    "from sklearn.cross_validation import train_test_split\n",
    "import string\n"
   ]
  },
  {
   "cell_type": "code",
   "execution_count": 42,
   "metadata": {},
   "outputs": [],
   "source": [
    "df1 = pd.read_csv(\"review_data.csv\",low_memory=False)\n",
    "df2=df1.head(17000)\n",
    "# change the above head value to see the difference between the performance of the classifiers"
   ]
  },
  {
   "cell_type": "code",
   "execution_count": 43,
   "metadata": {},
   "outputs": [],
   "source": [
    "df2.to_csv('test_review_data1.csv')"
   ]
  },
  {
   "cell_type": "code",
   "execution_count": 44,
   "metadata": {},
   "outputs": [
    {
     "data": {
      "text/plain": [
       "Index(['Unnamed: 0', 'review_id', 'user_id', 'business_id', 'stars', 'date',\n",
       "       'text', 'useful', 'funny', 'cool'],\n",
       "      dtype='object')"
      ]
     },
     "execution_count": 44,
     "metadata": {},
     "output_type": "execute_result"
    }
   ],
   "source": [
    "df2.columns\n"
   ]
  },
  {
   "cell_type": "code",
   "execution_count": 45,
   "metadata": {},
   "outputs": [
    {
     "name": "stderr",
     "output_type": "stream",
     "text": [
      "C:\\Users\\geeta\\Anaconda3\\lib\\site-packages\\ipykernel_launcher.py:2: SettingWithCopyWarning: \n",
      "A value is trying to be set on a copy of a slice from a DataFrame.\n",
      "Try using .loc[row_indexer,col_indexer] = value instead\n",
      "\n",
      "See the caveats in the documentation: http://pandas.pydata.org/pandas-docs/stable/indexing.html#indexing-view-versus-copy\n",
      "  \n",
      "C:\\Users\\geeta\\Anaconda3\\lib\\site-packages\\ipykernel_launcher.py:3: SettingWithCopyWarning: \n",
      "A value is trying to be set on a copy of a slice from a DataFrame.\n",
      "Try using .loc[row_indexer,col_indexer] = value instead\n",
      "\n",
      "See the caveats in the documentation: http://pandas.pydata.org/pandas-docs/stable/indexing.html#indexing-view-versus-copy\n",
      "  This is separate from the ipykernel package so we can avoid doing imports until\n",
      "C:\\Users\\geeta\\Anaconda3\\lib\\site-packages\\ipykernel_launcher.py:4: SettingWithCopyWarning: \n",
      "A value is trying to be set on a copy of a slice from a DataFrame.\n",
      "Try using .loc[row_indexer,col_indexer] = value instead\n",
      "\n",
      "See the caveats in the documentation: http://pandas.pydata.org/pandas-docs/stable/indexing.html#indexing-view-versus-copy\n",
      "  after removing the cwd from sys.path.\n",
      "C:\\Users\\geeta\\Anaconda3\\lib\\site-packages\\ipykernel_launcher.py:5: SettingWithCopyWarning: \n",
      "A value is trying to be set on a copy of a slice from a DataFrame.\n",
      "Try using .loc[row_indexer,col_indexer] = value instead\n",
      "\n",
      "See the caveats in the documentation: http://pandas.pydata.org/pandas-docs/stable/indexing.html#indexing-view-versus-copy\n",
      "  \"\"\"\n",
      "C:\\Users\\geeta\\Anaconda3\\lib\\site-packages\\ipykernel_launcher.py:6: SettingWithCopyWarning: \n",
      "A value is trying to be set on a copy of a slice from a DataFrame.\n",
      "Try using .loc[row_indexer,col_indexer] = value instead\n",
      "\n",
      "See the caveats in the documentation: http://pandas.pydata.org/pandas-docs/stable/indexing.html#indexing-view-versus-copy\n",
      "  \n",
      "C:\\Users\\geeta\\Anaconda3\\lib\\site-packages\\ipykernel_launcher.py:7: SettingWithCopyWarning: \n",
      "A value is trying to be set on a copy of a slice from a DataFrame.\n",
      "Try using .loc[row_indexer,col_indexer] = value instead\n",
      "\n",
      "See the caveats in the documentation: http://pandas.pydata.org/pandas-docs/stable/indexing.html#indexing-view-versus-copy\n",
      "  import sys\n",
      "C:\\Users\\geeta\\Anaconda3\\lib\\site-packages\\ipykernel_launcher.py:8: SettingWithCopyWarning: \n",
      "A value is trying to be set on a copy of a slice from a DataFrame.\n",
      "Try using .loc[row_indexer,col_indexer] = value instead\n",
      "\n",
      "See the caveats in the documentation: http://pandas.pydata.org/pandas-docs/stable/indexing.html#indexing-view-versus-copy\n",
      "  \n",
      "C:\\Users\\geeta\\Anaconda3\\lib\\site-packages\\ipykernel_launcher.py:10: SettingWithCopyWarning: \n",
      "A value is trying to be set on a copy of a slice from a DataFrame.\n",
      "Try using .loc[row_indexer,col_indexer] = value instead\n",
      "\n",
      "See the caveats in the documentation: http://pandas.pydata.org/pandas-docs/stable/indexing.html#indexing-view-versus-copy\n",
      "  # Remove the CWD from sys.path while we load stuff.\n",
      "C:\\Users\\geeta\\Anaconda3\\lib\\site-packages\\ipykernel_launcher.py:11: SettingWithCopyWarning: \n",
      "A value is trying to be set on a copy of a slice from a DataFrame.\n",
      "Try using .loc[row_indexer,col_indexer] = value instead\n",
      "\n",
      "See the caveats in the documentation: http://pandas.pydata.org/pandas-docs/stable/indexing.html#indexing-view-versus-copy\n",
      "  # This is added back by InteractiveShellApp.init_path()\n",
      "C:\\Users\\geeta\\Anaconda3\\lib\\site-packages\\ipykernel_launcher.py:12: SettingWithCopyWarning: \n",
      "A value is trying to be set on a copy of a slice from a DataFrame.\n",
      "Try using .loc[row_indexer,col_indexer] = value instead\n",
      "\n",
      "See the caveats in the documentation: http://pandas.pydata.org/pandas-docs/stable/indexing.html#indexing-view-versus-copy\n",
      "  if sys.path[0] == '':\n"
     ]
    }
   ],
   "source": [
    "df2.columns=[\"ID\",\"review_id\",\"user_id\",\"business_id\",\"stars\",\"date\",\"text\",\"useful\",\"funny\",\"cool\"]\n",
    "df2['negScore'] = np.where(df2['ID']>=0,1.,0.)\n",
    "df2['netScore'] = np.where(df2['ID']>=0,1.,0.)\n",
    "df2['posScore'] = np.where(df2['ID']>=0,1.,0.)\n",
    "df2['AvgScore'] = np.where(df2['ID']>=0,1.,0.)\n",
    "df2['usefulp'] = np.where(df2['useful']>=1,1,0)\n",
    "df2['funnyp'] = np.where(df2['funny']>=1,1,0)\n",
    "df2['coolp'] = np.where(df2['cool']>=1,1,0)\n",
    "#df2['starsp'] = np.where(df2['stars']<=2,1,np.where(df2['stars']==3,2,3)) \n",
    "df2['starsp'] = np.where(df2['stars']<=2,1,df2['stars'])\n",
    "df2['rating'] = np.where(df2['stars']<=2,0,df2['stars'])\n",
    "df2['starsp'] = np.where(df2['starsp']>=4,3,df2['starsp'])"
   ]
  },
  {
   "cell_type": "code",
   "execution_count": 46,
   "metadata": {},
   "outputs": [],
   "source": [
    "for k in range(len(df2['rating'])):\n",
    "    if df2['stars'][k]<=2:\n",
    "        df2['rating'][k]==\"bad\"\n",
    "    elif df2['stars'][k]>=4:\n",
    "        df2['rating'][k]==\"good\"\n",
    "    else:\n",
    "        df2['rating'][k]==\"neutral\""
   ]
  },
  {
   "cell_type": "code",
   "execution_count": 47,
   "metadata": {},
   "outputs": [
    {
     "name": "stderr",
     "output_type": "stream",
     "text": [
      "C:\\Users\\geeta\\Anaconda3\\lib\\site-packages\\pandas\\core\\generic.py:5430: SettingWithCopyWarning: \n",
      "A value is trying to be set on a copy of a slice from a DataFrame\n",
      "\n",
      "See the caveats in the documentation: http://pandas.pydata.org/pandas-docs/stable/indexing.html#indexing-view-versus-copy\n",
      "  self._update_inplace(new_data)\n"
     ]
    }
   ],
   "source": [
    "\n",
    "df2.fillna(df2.mean(),inplace=True)"
   ]
  },
  {
   "cell_type": "code",
   "execution_count": 48,
   "metadata": {},
   "outputs": [],
   "source": [
    "stop_words = set(stopwords.words('english'))\n",
    "#specialcharacters ={'$',':',\";\", \"%\",'\\n','\\r'}    \n",
    "exclude = set(string.punctuation)     \n",
    "for k in range(len(df2['text'])):   \n",
    "    i = df2['text'][k]\n",
    "    cleanedtext = ''.join(ch for ch in i if ch not in exclude)\n",
    "   # cleanedtext = ''.join(ch1 for ch1 in cleanedtext if ch1 not in specialcharacters)\n",
    "    sid = SentimentIntensityAnalyzer()\n",
    "    ss = sid.polarity_scores(cleanedtext)\n",
    "    df2.at[k,'negScore'] = ss['neg']\n",
    "    df2.at[k,'netScore'] = ss['neu']\n",
    "    df2.at[k,'posScore'] = ss['pos']\n",
    "    df2.at[k,'AvgScore'] = ss['compound']\n"
   ]
  },
  {
   "cell_type": "code",
   "execution_count": 49,
   "metadata": {},
   "outputs": [],
   "source": [
    "df2.to_csv('result.csv')"
   ]
  },
  {
   "cell_type": "code",
   "execution_count": 50,
   "metadata": {},
   "outputs": [
    {
     "data": {
      "text/plain": [
       "Index(['ID', 'review_id', 'user_id', 'business_id', 'stars', 'date', 'text',\n",
       "       'useful', 'funny', 'cool', 'negScore', 'netScore', 'posScore',\n",
       "       'AvgScore', 'usefulp', 'funnyp', 'coolp', 'starsp', 'rating'],\n",
       "      dtype='object')"
      ]
     },
     "execution_count": 50,
     "metadata": {},
     "output_type": "execute_result"
    }
   ],
   "source": [
    "df2.columns"
   ]
  },
  {
   "cell_type": "code",
   "execution_count": 51,
   "metadata": {},
   "outputs": [],
   "source": [
    "headers = [\"AvgScore\",\"starsp\"]\n",
    "modelbuilding = df2[headers]\n",
    "train_x, test_x, train_y, test_y = train_test_split(modelbuilding[headers[:-1]], modelbuilding[headers[-1]], train_size=0.7)\n"
   ]
  },
  {
   "cell_type": "code",
   "execution_count": 52,
   "metadata": {},
   "outputs": [],
   "source": [
    "from sklearn.ensemble import RandomForestClassifier\n",
    "from sklearn.svm import LinearSVC\n",
    "from sklearn.linear_model import LogisticRegression\n",
    "from sklearn import tree\n",
    "from sklearn.naive_bayes import GaussianNB\n",
    "from sklearn.metrics import*\n",
    "from IPython.display import display, Markdown\n",
    "from sklearn import svm"
   ]
  },
  {
   "cell_type": "code",
   "execution_count": 53,
   "metadata": {},
   "outputs": [
    {
     "data": {
      "text/markdown": [
       "# multi-classification model with logistic regression"
      ],
      "text/plain": [
       "<IPython.core.display.Markdown object>"
      ]
     },
     "metadata": {},
     "output_type": "display_data"
    }
   ],
   "source": [
    "display(Markdown(\"# multi-classification model with logistic regression\"))"
   ]
  },
  {
   "cell_type": "code",
   "execution_count": 54,
   "metadata": {},
   "outputs": [
    {
     "name": "stdout",
     "output_type": "stream",
     "text": [
      "Logistic regression Train Accuracy ::  0.8720168067226891\n",
      "Logistic regression Test Accuracy ::  0.8664705882352941\n",
      "Multinomial Logistic regression Train Accuracy ::  0.8721008403361344\n",
      "Multinomial Logistic regression Test Accuracy ::  0.8662745098039216\n"
     ]
    }
   ],
   "source": [
    "lr = linear_model.LogisticRegression()\n",
    "lr.fit(train_x, train_y)\n",
    "\n",
    "#Train multinomial logistic regression model\n",
    "mul_lr = linear_model.LogisticRegression(multi_class='multinomial', solver='newton-cg').fit(train_x, train_y)\n",
    "\n",
    "lr_train_acc=metrics.accuracy_score(train_y, lr.predict(train_x))\n",
    "lr_test_acc=metrics.accuracy_score(test_y, lr.predict(test_x))\n",
    "ml_lr_train_acc=metrics.accuracy_score(train_y, mul_lr.predict(train_x))\n",
    "ml_lr_test_acc=metrics.accuracy_score(test_y, mul_lr.predict(test_x))\n",
    "\n",
    "\n",
    "\n",
    "print(\"Logistic regression Train Accuracy :: \",lr_train_acc )\n",
    "print(\"Logistic regression Test Accuracy :: \",lr_test_acc )\n",
    "print(\"Multinomial Logistic regression Train Accuracy :: \",ml_lr_train_acc )\n",
    "print(\"Multinomial Logistic regression Test Accuracy :: \", ml_lr_test_acc)"
   ]
  },
  {
   "cell_type": "code",
   "execution_count": 55,
   "metadata": {},
   "outputs": [
    {
     "data": {
      "text/markdown": [
       "# NAIVE BAYES"
      ],
      "text/plain": [
       "<IPython.core.display.Markdown object>"
      ]
     },
     "metadata": {},
     "output_type": "display_data"
    }
   ],
   "source": [
    "display(Markdown(\"# NAIVE BAYES\"))"
   ]
  },
  {
   "cell_type": "code",
   "execution_count": 56,
   "metadata": {},
   "outputs": [
    {
     "data": {
      "text/plain": [
       "GaussianNB(priors=None)"
      ]
     },
     "execution_count": 56,
     "metadata": {},
     "output_type": "execute_result"
    }
   ],
   "source": [
    "NB = GaussianNB()\n",
    "NB.fit(train_x, train_y)"
   ]
  },
  {
   "cell_type": "code",
   "execution_count": 57,
   "metadata": {},
   "outputs": [
    {
     "name": "stdout",
     "output_type": "stream",
     "text": [
      "Gausiian Niave Bayes Train Accuracy ::  0.8628571428571429\n",
      "Gausiian Niave Bayes Test Accuracy ::  0.8619607843137255\n"
     ]
    }
   ],
   "source": [
    "GNB_train_acc=metrics.accuracy_score(train_y, NB.predict(train_x))\n",
    "GNB_test_acc= metrics.accuracy_score(test_y, NB.predict(test_x))\n",
    "\n",
    "print(\"Gausiian Niave Bayes Train Accuracy :: \",GNB_train_acc )\n",
    "print(\"Gausiian Niave Bayes Test Accuracy :: \",GNB_test_acc)"
   ]
  },
  {
   "cell_type": "code",
   "execution_count": 58,
   "metadata": {},
   "outputs": [
    {
     "data": {
      "text/markdown": [
       "# Random Forest"
      ],
      "text/plain": [
       "<IPython.core.display.Markdown object>"
      ]
     },
     "metadata": {},
     "output_type": "display_data"
    }
   ],
   "source": [
    "display(Markdown(\"# Random Forest\"))"
   ]
  },
  {
   "cell_type": "code",
   "execution_count": 59,
   "metadata": {},
   "outputs": [
    {
     "data": {
      "text/plain": [
       "LogisticRegression(C=1.0, class_weight=None, dual=False, fit_intercept=True,\n",
       "          intercept_scaling=1, max_iter=100, multi_class='ovr', n_jobs=1,\n",
       "          penalty='l2', random_state=None, solver='liblinear', tol=0.0001,\n",
       "          verbose=0, warm_start=False)"
      ]
     },
     "execution_count": 59,
     "metadata": {},
     "output_type": "execute_result"
    }
   ],
   "source": [
    "RF = linear_model.LogisticRegression()\n",
    "RF.fit(train_x, train_y)"
   ]
  },
  {
   "cell_type": "code",
   "execution_count": 60,
   "metadata": {},
   "outputs": [
    {
     "name": "stdout",
     "output_type": "stream",
     "text": [
      "Random Forest Train Accuracy ::  0.8720168067226891\n",
      "Random Forest Test Accuracy ::  0.8664705882352941\n"
     ]
    }
   ],
   "source": [
    "RF_train_acc=metrics.accuracy_score(train_y, RF.predict(train_x))\n",
    "RF_test_acc= metrics.accuracy_score(test_y, RF.predict(test_x))\n",
    "\n",
    "print(\"Random Forest Train Accuracy :: \",RF_train_acc )\n",
    "print(\"Random Forest Test Accuracy :: \",RF_test_acc )"
   ]
  },
  {
   "cell_type": "code",
   "execution_count": 61,
   "metadata": {},
   "outputs": [
    {
     "data": {
      "text/markdown": [
       "# SVM"
      ],
      "text/plain": [
       "<IPython.core.display.Markdown object>"
      ]
     },
     "metadata": {},
     "output_type": "display_data"
    }
   ],
   "source": [
    "display(Markdown(\"# SVM\"))\n"
   ]
  },
  {
   "cell_type": "code",
   "execution_count": 62,
   "metadata": {},
   "outputs": [
    {
     "data": {
      "text/plain": [
       "LinearSVC(C=1.0, class_weight=None, dual=True, fit_intercept=True,\n",
       "     intercept_scaling=1, loss='squared_hinge', max_iter=1000,\n",
       "     multi_class='ovr', penalty='l2', random_state=0, tol=0.0001,\n",
       "     verbose=0)"
      ]
     },
     "execution_count": 62,
     "metadata": {},
     "output_type": "execute_result"
    }
   ],
   "source": [
    "SVM_clf = LinearSVC(random_state=0)\n",
    "SVM_clf.fit(train_x,train_y)"
   ]
  },
  {
   "cell_type": "code",
   "execution_count": 63,
   "metadata": {},
   "outputs": [],
   "source": [
    "train_SVM_acc=metrics.accuracy_score(train_y, SVM_clf.predict(train_x))\n",
    "test_SVM_acc=metrics.accuracy_score(test_y, SVM_clf.predict(test_x))"
   ]
  },
  {
   "cell_type": "code",
   "execution_count": 64,
   "metadata": {},
   "outputs": [
    {
     "name": "stdout",
     "output_type": "stream",
     "text": [
      "SVM Train Accuracy ::  0.8715126050420168\n",
      "SVM Test Accuracy ::  0.865686274509804\n"
     ]
    }
   ],
   "source": [
    "print(\"SVM Train Accuracy :: \",train_SVM_acc )\n",
    "print(\"SVM Test Accuracy :: \",test_SVM_acc)"
   ]
  },
  {
   "cell_type": "code",
   "execution_count": null,
   "metadata": {},
   "outputs": [],
   "source": []
  },
  {
   "cell_type": "code",
   "execution_count": 65,
   "metadata": {},
   "outputs": [],
   "source": [
    "import seaborn as sn\n",
    "import matplotlib.pyplot as plt"
   ]
  },
  {
   "cell_type": "code",
   "execution_count": 66,
   "metadata": {},
   "outputs": [
    {
     "data": {
      "text/markdown": [
       "# Accuracies for various Classifiers"
      ],
      "text/plain": [
       "<IPython.core.display.Markdown object>"
      ]
     },
     "metadata": {},
     "output_type": "display_data"
    },
    {
     "name": "stdout",
     "output_type": "stream",
     "text": [
      "Logistic regression Train Accuracy ::  0.8720168067226891\n",
      "Logistic regression Test Accuracy ::  0.8664705882352941\n",
      "Multinomial Logistic regression Train Accuracy ::  0.8721008403361344\n",
      "Multinomial Logistic regression Test Accuracy ::  0.8662745098039216\n",
      "Gausiian Niave Bayes Train Accuracy ::  0.8628571428571429\n",
      "Gausiian Niave Bayes Test Accuracy ::  0.8619607843137255\n",
      "Random Forest Train Accuracy ::  0.8720168067226891\n",
      "Random Forest Test Accuracy ::  0.8664705882352941\n",
      "SVM Train Accuracy ::  0.8715126050420168\n",
      "SVM Test Accuracy ::  0.865686274509804\n"
     ]
    },
    {
     "data": {
      "image/png": "[encoded data removed]",
      "text/plain": [
       "<Figure size 432x288 with 1 Axes>"
      ]
     },
     "metadata": {},
     "output_type": "display_data"
    }
   ],
   "source": [
    "display(Markdown(\"# Accuracies for various Classifiers\"))\n",
    "print(\"Logistic regression Train Accuracy :: \",lr_train_acc )\n",
    "print(\"Logistic regression Test Accuracy :: \",lr_test_acc )\n",
    "\n",
    "print(\"Multinomial Logistic regression Train Accuracy :: \",ml_lr_train_acc )\n",
    "print(\"Multinomial Logistic regression Test Accuracy :: \", ml_lr_test_acc)\n",
    "\n",
    "print(\"Gausiian Niave Bayes Train Accuracy :: \",GNB_train_acc )\n",
    "print(\"Gausiian Niave Bayes Test Accuracy :: \",GNB_test_acc)\n",
    "print(\"Random Forest Train Accuracy :: \",RF_train_acc )\n",
    "print(\"Random Forest Test Accuracy :: \",RF_test_acc )\n",
    "print(\"SVM Train Accuracy :: \",train_SVM_acc )\n",
    "print(\"SVM Test Accuracy :: \",test_SVM_acc)\n",
    "\n",
    "ind = np.array([1,2,3,4])\n",
    "wid = 0.1\n",
    "fig, axis = plt.subplots()\n",
    "#plt.figure(figsize=(10,10))\n",
    "training_accuracies = [lr_train_acc,GNB_train_acc,RF_train_acc,train_SVM_acc]\n",
    "testing_accuracies = [lr_test_acc,GNB_test_acc,RF_test_acc,test_SVM_acc]\n",
    "labels = []\n",
    "training_bars = axis.bar(ind,training_accuracies,width=wid,)\n",
    "testing_bars = axis.bar(ind+wid,testing_accuracies,width=wid)\n",
    "axis.set_xticks(ind)\n",
    "axis.legend((training_bars[0], testing_bars[0]), ('Training', 'Testing'))\n",
    "\n",
    "axis.set_xticklabels(('LogisticRegresson','Naive Bayes','Random Forest','SVM'))\n",
    "plt.xticks(fontsize=11)  \n",
    "plt.yticks(fontsize=11)\n",
    "#plt.title('Comparison of Accuracies for various Classifiers')\n",
    "plt.show()"
   ]
  },
  {
   "cell_type": "code",
   "execution_count": 67,
   "metadata": {
    "scrolled": true
   },
   "outputs": [
    {
     "data": {
      "text/markdown": [
       "# Accuracies in Tabular format "
      ],
      "text/plain": [
       "<IPython.core.display.Markdown object>"
      ]
     },
     "metadata": {},
     "output_type": "display_data"
    },
    {
     "data": {
      "image/png": "[encoded data removed]",
      "text/plain": [
       "<Figure size 324x324 with 2 Axes>"
      ]
     },
     "metadata": {},
     "output_type": "display_data"
    }
   ],
   "source": [
    "display(Markdown(\"# Accuracies in Tabular format \"))\n",
    "mat = np.hstack((np.array(training_accuracies).reshape(-1,1),np.array(testing_accuracies).reshape(-1,1)))\n",
    "df_acc = pd.DataFrame(mat)\n",
    "plt.figure(figsize = (4.5,4.5))\n",
    "yticks = ['Logistic Regression','Naive bayes','Random Forest', \"SVM\"]\n",
    "xticks = ['Train','Test']\n",
    "sn.heatmap(df_acc, annot=True, fmt='.3f',xticklabels=xticks,yticklabels=yticks)\n",
    "sn.set(font_scale=2)\n",
    "plt.yticks(rotation=0)\n",
    "#plt.title(\"Classification Accuracies in Tabular format\")\n",
    "plt.show()"
   ]
  },
  {
   "cell_type": "code",
   "execution_count": null,
   "metadata": {},
   "outputs": [],
   "source": []
  },
  {
   "cell_type": "code",
   "execution_count": null,
   "metadata": {},
   "outputs": [],
   "source": []
  },
  {
   "cell_type": "code",
   "execution_count": null,
   "metadata": {},
   "outputs": [],
   "source": []
  }
 ],
 "metadata": {
  "kernelspec": {
   "display_name": "Python 3",
   "language": "python",
   "name": "python3"
  },
  "language_info": {
   "codemirror_mode": {
    "name": "ipython",
    "version": 3
   },
   "file_extension": ".py",
   "mimetype": "text/x-python",
   "name": "python",
   "nbconvert_exporter": "python",
   "pygments_lexer": "ipython3",
   "version": "3.6.5"
  }
 },
 "nbformat": 4,
 "nbformat_minor": 2
}
